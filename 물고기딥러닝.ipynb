{
  "nbformat": 4,
  "nbformat_minor": 0,
  "metadata": {
    "kernelspec": {
      "display_name": "Python 3",
      "language": "python",
      "name": "python3"
    },
    "language_info": {
      "codemirror_mode": {
        "name": "ipython",
        "version": 3
      },
      "file_extension": ".py",
      "mimetype": "text/x-python",
      "name": "python",
      "nbconvert_exporter": "python",
      "pygments_lexer": "ipython3",
      "version": "3.6.6"
    },
    "colab": {
      "name": "물고기딥러닝.ipynb",
      "provenance": [],
      "collapsed_sections": [],
      "include_colab_link": true
    },
    "accelerator": "GPU"
  },
  "cells": [
    {
      "cell_type": "markdown",
      "metadata": {
        "id": "view-in-github",
        "colab_type": "text"
      },
      "source": [
        "<a href=\"https://colab.research.google.com/github/parksusung/Danakkaa/blob/master/%EB%AC%BC%EA%B3%A0%EA%B8%B0%EB%94%A5%EB%9F%AC%EB%8B%9D.ipynb\" target=\"_parent\"><img src=\"https://colab.research.google.com/assets/colab-badge.svg\" alt=\"Open In Colab\"/></a>"
      ]
    },
    {
      "cell_type": "code",
      "metadata": {
        "id": "_XXf2kGLIxlv",
        "colab": {
          "base_uri": "https://localhost:8080/",
          "height": 35
        },
        "outputId": "320c85e3-d425-4b94-cb25-dad0f888b29d"
      },
      "source": [
        "import keras\n",
        "import cv2\n",
        "import numpy as np\n",
        "import pandas as pd\n",
        "import matplotlib.pyplot as plt\n",
        "from sklearn.model_selection import train_test_split\n",
        "import glob\n",
        "%matplotlib inline\n",
        "import os, shutil\n",
        "import glob\n",
        "from tensorflow.keras import layers\n",
        "from tensorflow.keras import models\n",
        "from tensorflow.keras.utils import to_categorical\n",
        "from tensorflow.keras import optimizers"
      ],
      "execution_count": null,
      "outputs": [
        {
          "output_type": "stream",
          "text": [
            "Using TensorFlow backend.\n"
          ],
          "name": "stderr"
        }
      ]
    },
    {
      "cell_type": "code",
      "metadata": {
        "id": "AiGCmFtrJZ_H",
        "colab": {
          "base_uri": "https://localhost:8080/",
          "height": 127
        },
        "outputId": "fb0566e9-98a6-4504-c7ad-f116caa16b2e"
      },
      "source": [
        "from google.colab import drive\n",
        "drive.mount('/content/drive')"
      ],
      "execution_count": null,
      "outputs": [
        {
          "output_type": "stream",
          "text": [
            "Go to this URL in a browser: https://accounts.google.com/o/oauth2/auth?client_id=947318989803-6bn6qk8qdgf4n4g3pfee6491hc0brc4i.apps.googleusercontent.com&redirect_uri=urn%3aietf%3awg%3aoauth%3a2.0%3aoob&response_type=code&scope=email%20https%3a%2f%2fwww.googleapis.com%2fauth%2fdocs.test%20https%3a%2f%2fwww.googleapis.com%2fauth%2fdrive%20https%3a%2f%2fwww.googleapis.com%2fauth%2fdrive.photos.readonly%20https%3a%2f%2fwww.googleapis.com%2fauth%2fpeopleapi.readonly\n",
            "\n",
            "Enter your authorization code:\n",
            "··········\n",
            "Mounted at /content/drive\n"
          ],
          "name": "stdout"
        }
      ]
    },
    {
      "cell_type": "code",
      "metadata": {
        "id": "Cmy83O5bIxl3"
      },
      "source": [
        "# // train_data 로드\n",
        "train_path = \"/content/drive/My Drive/fish0430/train/\"\n",
        "#// test_data 로드\n",
        "test_path=\"/content/drive/My Drive/fish0430/test/\""
      ],
      "execution_count": null,
      "outputs": []
    },
    {
      "cell_type": "markdown",
      "metadata": {
        "id": "RkWVHKGXIxl8"
      },
      "source": [
        "## 라벨 로드"
      ]
    },
    {
      "cell_type": "code",
      "metadata": {
        "id": "Qz1snMbDIxl9",
        "colab": {
          "base_uri": "https://localhost:8080/",
          "height": 53
        },
        "outputId": "69698beb-f3dc-48a9-8538-4fabdd22974e"
      },
      "source": [
        "labels=[]\n",
        "print(len(glob.glob(train_path+\"*\")))\n",
        "for i in range(len(glob.glob(train_path+\"*\"))):\n",
        "    name = glob.glob(train_path+\"*\")[i][39:]\n",
        "    labels.append(name)\n",
        "labels.sort()\n",
        "print(labels)"
      ],
      "execution_count": null,
      "outputs": [
        {
          "output_type": "stream",
          "text": [
            "10\n",
            "['a고등어', 'b쏨뱅이', 'c뱅어돔', 'd범돔', 'g용치놀래기', 'h참돔', 'i줄전갱이', 'j감성돔', 'k농어', 'l까나리']\n"
          ],
          "name": "stdout"
        }
      ]
    },
    {
      "cell_type": "markdown",
      "metadata": {
        "id": "sdKgaq1gIxmA"
      },
      "source": [
        "## 데이터 로드"
      ]
    },
    {
      "cell_type": "code",
      "metadata": {
        "id": "uMQreDzoakBy",
        "colab": {
          "base_uri": "https://localhost:8080/",
          "height": 107
        },
        "outputId": "68f6586d-519d-4e6b-9bed-c50cc5121522"
      },
      "source": [
        "picture_size = 150\n",
        "train_data = []\n",
        "train_data_label =[]\n",
        "for label in range(len(labels)):\n",
        "    print(train_path+labels[label])\n",
        "    if(labels[label] == \"a고등어\"):\n",
        "        for i in range(len(glob.glob(train_path+labels[label]+\"/*.*\"))):\n",
        "            img = cv2.imread(glob.glob(train_path+labels[label]+\"/*.*\")[i])\n",
        "            img = cv2.resize(img,(picture_size,picture_size))\n",
        "            train_data.append(img)\n",
        "            train_data_label.append(label)\n",
        "    elif(labels[label] == \"b쏨뱅이\"):\n",
        "        for i in range(len(glob.glob(train_path+labels[label]+\"/*.*\"))):\n",
        "             img = cv2.imread(glob.glob(train_path+labels[label]+\"/*.*\")[i])\n",
        "             img = cv2.resize(img,(picture_size,picture_size))\n",
        "             train_data.append(img)\n",
        "             train_data_label.append(label)\n",
        "    elif(labels[label] == \"c뱅어돔\"):\n",
        "        for i in range(len(glob.glob(train_path+labels[label]+\"/*.*\"))):\n",
        "             img = cv2.imread(glob.glob(train_path+labels[label]+\"/*.*\")[i])\n",
        "             img = cv2.resize(img,(picture_size,picture_size))\n",
        "             train_data.append(img)\n",
        "             train_data_label.append(label)\n",
        "    elif(labels[label] == \"d범돔\"):\n",
        "        for i in range(len(glob.glob(train_path+labels[label]+\"/*.*\"))):\n",
        "             img = cv2.imread(glob.glob(train_path+labels[label]+\"/*.*\")[i])\n",
        "             img = cv2.resize(img,(picture_size,picture_size))\n",
        "             train_data.append(img)\n",
        "             train_data_label.append(label)\n",
        "    elif(labels[label] == \"g용치놀래기\"):\n",
        "        for i in range(len(glob.glob(train_path+labels[label]+\"/*.*\"))):\n",
        "             img = cv2.imread(glob.glob(train_path+labels[label]+\"/*.*\")[i])\n",
        "             img = cv2.resize(img,(picture_size,picture_size))\n",
        "             train_data.append(img)\n",
        "             train_data_label.append(label)\n",
        "    elif(labels[label] == \"h참돔\"):\n",
        "        for i in range(len(glob.glob(train_path+labels[label]+\"/*.*\"))):\n",
        "             img = cv2.imread(glob.glob(train_path+labels[label]+\"/*.*\")[i])\n",
        "             img = cv2.resize(img,(picture_size,picture_size))\n",
        "             train_data.append(img)\n",
        "             train_data_label.append(label)\n",
        "    elif(labels[label] == \"i줄전갱이\"):\n",
        "        for i in range(len(glob.glob(train_path+labels[label]+\"/*.*\"))):\n",
        "             img = cv2.imread(glob.glob(train_path+labels[label]+\"/*.*\")[i])\n",
        "             img = cv2.resize(img,(picture_size,picture_size))\n",
        "             train_data.append(img)\n",
        "             train_data_label.append(label)\n",
        "    elif(labels[label] == \"j감성돔\"):\n",
        "        for i in range(len(glob.glob(train_path+labels[label]+\"/*.*\"))):\n",
        "             img = cv2.imread(glob.glob(train_path+labels[label]+\"/*.*\")[i])\n",
        "             img = cv2.resize(img,(picture_size,picture_size))\n",
        "             train_data.append(img)\n",
        "             train_data_label.append(label)\n",
        "    elif(labels[label] == \"k농어\"):\n",
        "        for i in range(len(glob.glob(train_path+labels[label]+\"/*.*\"))):\n",
        "             img = cv2.imread(glob.glob(train_path+labels[label]+\"/*.*\")[i])\n",
        "             img = cv2.resize(img,(picture_size,picture_size))\n",
        "             train_data.append(img)\n",
        "             train_data_label.append(label)\n",
        "    elif(labels[label] == \"l까나리\"):\n",
        "        for i in range(len(glob.glob(train_path+labels[label]+\"/*.*\"))):\n",
        "             img = cv2.imread(glob.glob(train_path+labels[label]+\"/*.*\")[i])\n",
        "             img = cv2.resize(img,(picture_size,picture_size))\n",
        "             train_data.append(img)\n",
        "             train_data_label.append(label)      "
      ],
      "execution_count": null,
      "outputs": [
        {
          "output_type": "stream",
          "text": [
            "/content/drive/My Drive/fish0430/train/a고등어\n",
            "/content/drive/My Drive/fish0430/train/b쏨뱅이\n",
            "/content/drive/My Drive/fish0430/train/c뱅어돔\n",
            "/content/drive/My Drive/fish0430/train/d범돔\n",
            "/content/drive/My Drive/fish0430/train/g용치놀래기\n"
          ],
          "name": "stdout"
        }
      ]
    },
    {
      "cell_type": "code",
      "metadata": {
        "id": "47SKMrqinGQQ"
      },
      "source": [
        "print(len(train_data))\n",
        "print(len(train_data_label))"
      ],
      "execution_count": null,
      "outputs": []
    },
    {
      "cell_type": "code",
      "metadata": {
        "id": "oXGRmvTzIxmI",
        "colab": {
          "base_uri": "https://localhost:8080/",
          "height": 286
        },
        "outputId": "0f131804-a4d7-41ab-c957-95e2691afb5c"
      },
      "source": [
        "plt.imshow(train_data[0])\n",
        "print(train_data_label[0])\n",
        "plt.show()"
      ],
      "execution_count": null,
      "outputs": [
        {
          "output_type": "stream",
          "text": [
            "0\n"
          ],
          "name": "stdout"
        },
        {
          "output_type": "display_data",
          "data": {
            "image/png": "[encoded data removed]",
            "text/plain": [
              "<Figure size 432x288 with 1 Axes>"
            ]
          },
          "metadata": {
            "tags": [],
            "needs_background": "light"
          }
        }
      ]
    },
    {
      "cell_type": "code",
      "metadata": {
        "id": "jrmdltNDIxmN",
        "colab": {
          "base_uri": "https://localhost:8080/",
          "height": 34
        },
        "outputId": "666d5ba5-2667-4b96-e52b-122fcc78a27f"
      },
      "source": [
        "train_data[0].shape"
      ],
      "execution_count": null,
      "outputs": [
        {
          "output_type": "execute_result",
          "data": {
            "text/plain": [
              "(150, 150, 3)"
            ]
          },
          "metadata": {
            "tags": []
          },
          "execution_count": 25
        }
      ]
    },
    {
      "cell_type": "markdown",
      "metadata": {
        "id": "aw54Wq0LIxmQ"
      },
      "source": [
        "# 전처리"
      ]
    },
    {
      "cell_type": "code",
      "metadata": {
        "id": "47Ii2oihIxmR"
      },
      "source": [
        "x = np.array(train_data)\n",
        "y = np.array(train_data_label)"
      ],
      "execution_count": null,
      "outputs": []
    },
    {
      "cell_type": "code",
      "metadata": {
        "id": "r8nD-qdrIxmU",
        "colab": {
          "base_uri": "https://localhost:8080/",
          "height": 386
        },
        "outputId": "233a3ccd-5c58-4c17-bc4d-684e9e0bb324"
      },
      "source": [
        "X_train, X_test, y_train, y_test = train_test_split(x, y, test_size = 0.2,random_state = 777)\n",
        "\n",
        "print(X_train.shape)\n",
        "print(X_test.shape)\n",
        "print(y_train.shape)\n",
        "print(y_test.shape)"
      ],
      "execution_count": null,
      "outputs": [
        {
          "output_type": "error",
          "ename": "ValueError",
          "evalue": "ignored",
          "traceback": [
            "\u001b[0;31m---------------------------------------------------------------------------\u001b[0m",
            "\u001b[0;31mValueError\u001b[0m                                Traceback (most recent call last)",
            "\u001b[0;32m<ipython-input-27-9fa9c9ae2e93>\u001b[0m in \u001b[0;36m<module>\u001b[0;34m()\u001b[0m\n\u001b[0;32m----> 1\u001b[0;31m \u001b[0mX_train\u001b[0m\u001b[0;34m,\u001b[0m \u001b[0mX_test\u001b[0m\u001b[0;34m,\u001b[0m \u001b[0my_train\u001b[0m\u001b[0;34m,\u001b[0m \u001b[0my_test\u001b[0m \u001b[0;34m=\u001b[0m \u001b[0mtrain_test_split\u001b[0m\u001b[0;34m(\u001b[0m\u001b[0mx\u001b[0m\u001b[0;34m,\u001b[0m \u001b[0my\u001b[0m\u001b[0;34m,\u001b[0m \u001b[0mtest_size\u001b[0m \u001b[0;34m=\u001b[0m \u001b[0;36m0.2\u001b[0m\u001b[0;34m,\u001b[0m\u001b[0mrandom_state\u001b[0m \u001b[0;34m=\u001b[0m \u001b[0;36m777\u001b[0m\u001b[0;34m)\u001b[0m\u001b[0;34m\u001b[0m\u001b[0;34m\u001b[0m\u001b[0m\n\u001b[0m\u001b[1;32m      2\u001b[0m \u001b[0;34m\u001b[0m\u001b[0m\n\u001b[1;32m      3\u001b[0m \u001b[0mprint\u001b[0m\u001b[0;34m(\u001b[0m\u001b[0mX_train\u001b[0m\u001b[0;34m.\u001b[0m\u001b[0mshape\u001b[0m\u001b[0;34m)\u001b[0m\u001b[0;34m\u001b[0m\u001b[0;34m\u001b[0m\u001b[0m\n\u001b[1;32m      4\u001b[0m \u001b[0mprint\u001b[0m\u001b[0;34m(\u001b[0m\u001b[0mX_test\u001b[0m\u001b[0;34m.\u001b[0m\u001b[0mshape\u001b[0m\u001b[0;34m)\u001b[0m\u001b[0;34m\u001b[0m\u001b[0;34m\u001b[0m\u001b[0m\n\u001b[1;32m      5\u001b[0m \u001b[0mprint\u001b[0m\u001b[0;34m(\u001b[0m\u001b[0my_train\u001b[0m\u001b[0;34m.\u001b[0m\u001b[0mshape\u001b[0m\u001b[0;34m)\u001b[0m\u001b[0;34m\u001b[0m\u001b[0;34m\u001b[0m\u001b[0m\n",
            "\u001b[0;32m/usr/local/lib/python3.6/dist-packages/sklearn/model_selection/_split.py\u001b[0m in \u001b[0;36mtrain_test_split\u001b[0;34m(*arrays, **options)\u001b[0m\n\u001b[1;32m   2120\u001b[0m     \u001b[0mn_samples\u001b[0m \u001b[0;34m=\u001b[0m \u001b[0m_num_samples\u001b[0m\u001b[0;34m(\u001b[0m\u001b[0marrays\u001b[0m\u001b[0;34m[\u001b[0m\u001b[0;36m0\u001b[0m\u001b[0;34m]\u001b[0m\u001b[0;34m)\u001b[0m\u001b[0;34m\u001b[0m\u001b[0;34m\u001b[0m\u001b[0m\n\u001b[1;32m   2121\u001b[0m     n_train, n_test = _validate_shuffle_split(n_samples, test_size, train_size,\n\u001b[0;32m-> 2122\u001b[0;31m                                               default_test_size=0.25)\n\u001b[0m\u001b[1;32m   2123\u001b[0m \u001b[0;34m\u001b[0m\u001b[0m\n\u001b[1;32m   2124\u001b[0m     \u001b[0;32mif\u001b[0m \u001b[0mshuffle\u001b[0m \u001b[0;32mis\u001b[0m \u001b[0;32mFalse\u001b[0m\u001b[0;34m:\u001b[0m\u001b[0;34m\u001b[0m\u001b[0;34m\u001b[0m\u001b[0m\n",
            "\u001b[0;32m/usr/local/lib/python3.6/dist-packages/sklearn/model_selection/_split.py\u001b[0m in \u001b[0;36m_validate_shuffle_split\u001b[0;34m(n_samples, test_size, train_size, default_test_size)\u001b[0m\n\u001b[1;32m   1803\u001b[0m             \u001b[0;34m'resulting train set will be empty. Adjust any of the '\u001b[0m\u001b[0;34m\u001b[0m\u001b[0;34m\u001b[0m\u001b[0m\n\u001b[1;32m   1804\u001b[0m             'aforementioned parameters.'.format(n_samples, test_size,\n\u001b[0;32m-> 1805\u001b[0;31m                                                 train_size)\n\u001b[0m\u001b[1;32m   1806\u001b[0m         )\n\u001b[1;32m   1807\u001b[0m \u001b[0;34m\u001b[0m\u001b[0m\n",
            "\u001b[0;31mValueError\u001b[0m: With n_samples=1, test_size=0.2 and train_size=None, the resulting train set will be empty. Adjust any of the aforementioned parameters."
          ]
        }
      ]
    },
    {
      "cell_type": "code",
      "metadata": {
        "id": "VhpEEIr3IxmX"
      },
      "source": [
        "Y_train = to_categorical(y_train, len(labels))\n",
        "Y_validation = to_categorical(y_test, len(labels))"
      ],
      "execution_count": null,
      "outputs": []
    },
    {
      "cell_type": "markdown",
      "metadata": {
        "id": "V3WKFih1Ixma"
      },
      "source": [
        "# test 로드"
      ]
    },
    {
      "cell_type": "code",
      "metadata": {
        "id": "UEIcBMe7Ixmc",
        "colab": {
          "base_uri": "https://localhost:8080/",
          "height": 34
        },
        "outputId": "719a4665-9d9e-4968-f1c3-13d0e0ade211"
      },
      "source": [
        "labels=[]\n",
        "for i in range(len(glob.glob(test_path+\"*\"))):\n",
        "    name = glob.glob(test_path+\"*\")[i][38:]\n",
        "    labels.append(name)\n",
        "labels.sort()\n",
        "print(labels)"
      ],
      "execution_count": null,
      "outputs": [
        {
          "output_type": "stream",
          "text": [
            "['a고등어', 'b쏨뱅이', 'c뱅어돔', 'd범돔', 'g용치놀래기', 'h참돔', 'i줄전갱이', 'j감성돔', 'k농어', 'l보리멸치']\n"
          ],
          "name": "stdout"
        }
      ]
    },
    {
      "cell_type": "code",
      "metadata": {
        "id": "oJJRJbK3atFu",
        "colab": {
          "base_uri": "https://localhost:8080/",
          "height": 388
        },
        "outputId": "6935e8cc-ad96-428e-8044-1789b398c9c9"
      },
      "source": [
        "picture_size = 150\n",
        "test_data = []\n",
        "test_data_label =[]\n",
        "for label in range(len(labels)):\n",
        "    print(test_path+labels[label])\n",
        "    if(labels[label] == \"a고등어\"):\n",
        "        for i in range(len(glob.glob(test_path+labels[label]+\"/*.*\"))):\n",
        "            img = cv2.imread(glob.glob(test_path+labels[label]+\"/*.*\")[i])\n",
        "            img = cv2.resize(img,(picture_size,picture_size))\n",
        "            test_data.append(img)\n",
        "            test_data_label.append(label)\n",
        "    elif(labels[label] == \"b쏨뱅이\"):\n",
        "        for i in range(len(glob.glob(test_path+labels[label]+\"/*.*\"))):\n",
        "             img = cv2.imread(glob.glob(test_path+labels[label]+\"/*.*\")[i])\n",
        "             img = cv2.resize(img,(picture_size,picture_size))\n",
        "             test_data.append(img)\n",
        "             test_data_label.append(label)\n",
        "    elif(labels[label] == \"c뱅어돔\"):\n",
        "        for i in range(len(glob.glob(test_path+labels[label]+\"/*.*\"))):\n",
        "             img = cv2.imread(glob.glob(test_path+labels[label]+\"/*.*\")[i])\n",
        "             img = cv2.resize(img,(picture_size,picture_size))\n",
        "             test_data.append(img)\n",
        "             test_data_label.append(label)\n",
        "    elif(labels[label] == \"d범돔\"):\n",
        "        for i in range(len(glob.glob(test_path+labels[label]+\"/*.*\"))):\n",
        "             img = cv2.imread(glob.glob(test_path+labels[label]+\"/*.*\")[i])\n",
        "             img = cv2.resize(img,(picture_size,picture_size))\n",
        "             test_data.append(img)\n",
        "             test_data_label.append(label)\n",
        "    elif(labels[label] == \"g용치놀래기\"):\n",
        "        for i in range(len(glob.glob(test_path+labels[label]+\"/*.*\"))):\n",
        "             img = cv2.imread(glob.glob(test_path+labels[label]+\"/*.*\")[i])\n",
        "             img = cv2.resize(img,(picture_size,picture_size))\n",
        "             test_data.append(img)\n",
        "             test_data_label.append(label)\n",
        "    elif(labels[label] == \"h참돔\"):\n",
        "        for i in range(len(glob.glob(test_path+labels[label]+\"/*.*\"))):\n",
        "             img = cv2.imread(glob.glob(test_path+labels[label]+\"/*.*\")[i])\n",
        "             img = cv2.resize(img,(picture_size,picture_size))\n",
        "             test_data.append(img)\n",
        "             test_data_label.append(label)\n",
        "    elif(labels[label] == \"i줄전갱이\"):\n",
        "        for i in range(len(glob.glob(test_path+labels[label]+\"/*.*\"))):\n",
        "             img = cv2.imread(glob.glob(test_path+labels[label]+\"/*.*\")[i])\n",
        "             img = cv2.resize(img,(picture_size,picture_size))\n",
        "             test_data.append(img)\n",
        "             test_data_label.append(label)\n",
        "    elif(labels[label] == \"j감성돔\"):\n",
        "        for i in range(len(glob.glob(test_path+labels[label]+\"/*.*\"))):\n",
        "             img = cv2.imread(glob.glob(test_path+labels[label]+\"/*.*\")[i])\n",
        "             img = cv2.resize(img,(picture_size,picture_size))\n",
        "             test_data.append(img)\n",
        "             test_data_label.append(label)\n",
        "    elif(labels[label] == \"k농어\"):\n",
        "        for i in range(len(glob.glob(test_path+labels[label]+\"/*.*\"))):\n",
        "             img = cv2.imread(glob.glob(test_path+labels[label]+\"/*.*\")[i])\n",
        "             img = cv2.resize(img,(picture_size,picture_size))\n",
        "             test_data.append(img)\n",
        "             test_data_label.append(label)\n",
        "    elif(labels[label] == \"l보리멸치\"):\n",
        "        for i in range(len(glob.glob(test_path+labels[label]+\"/*.*\"))):\n",
        "             img = cv2.imread(glob.glob(test_path+labels[label]+\"/*.*\")[i])\n",
        "             img = cv2.resize(img,(picture_size,picture_size))\n",
        "             test_data.append(img)\n",
        "             test_data_label.append(label)    "
      ],
      "execution_count": null,
      "outputs": [
        {
          "output_type": "stream",
          "text": [
            "/content/drive/My Drive/fish0430/test/a고등어\n",
            "/content/drive/My Drive/fish0430/test/b쏨뱅이\n",
            "/content/drive/My Drive/fish0430/test/c뱅어돔\n",
            "/content/drive/My Drive/fish0430/test/d범돔\n",
            "/content/drive/My Drive/fish0430/test/g용치놀래기\n",
            "/content/drive/My Drive/fish0430/test/h참돔\n",
            "/content/drive/My Drive/fish0430/test/i줄전갱이\n",
            "/content/drive/My Drive/fish0430/test/j감성돔\n"
          ],
          "name": "stdout"
        },
        {
          "output_type": "error",
          "ename": "error",
          "evalue": "ignored",
          "traceback": [
            "\u001b[0;31m---------------------------------------------------------------------------\u001b[0m",
            "\u001b[0;31merror\u001b[0m                                     Traceback (most recent call last)",
            "\u001b[0;32m<ipython-input-13-79ace786d56c>\u001b[0m in \u001b[0;36m<module>\u001b[0;34m()\u001b[0m\n\u001b[1;32m     70\u001b[0m         \u001b[0;32mfor\u001b[0m \u001b[0mi\u001b[0m \u001b[0;32min\u001b[0m \u001b[0mrange\u001b[0m\u001b[0;34m(\u001b[0m\u001b[0mlen\u001b[0m\u001b[0;34m(\u001b[0m\u001b[0mglob\u001b[0m\u001b[0;34m.\u001b[0m\u001b[0mglob\u001b[0m\u001b[0;34m(\u001b[0m\u001b[0mtest_path\u001b[0m\u001b[0;34m+\u001b[0m\u001b[0mlabels\u001b[0m\u001b[0;34m[\u001b[0m\u001b[0mlabel\u001b[0m\u001b[0;34m]\u001b[0m\u001b[0;34m+\u001b[0m\u001b[0;34m\"/*.*\"\u001b[0m\u001b[0;34m)\u001b[0m\u001b[0;34m)\u001b[0m\u001b[0;34m)\u001b[0m\u001b[0;34m:\u001b[0m\u001b[0;34m\u001b[0m\u001b[0;34m\u001b[0m\u001b[0m\n\u001b[1;32m     71\u001b[0m              \u001b[0mimg\u001b[0m \u001b[0;34m=\u001b[0m \u001b[0mcv2\u001b[0m\u001b[0;34m.\u001b[0m\u001b[0mimread\u001b[0m\u001b[0;34m(\u001b[0m\u001b[0mglob\u001b[0m\u001b[0;34m.\u001b[0m\u001b[0mglob\u001b[0m\u001b[0;34m(\u001b[0m\u001b[0mtest_path\u001b[0m\u001b[0;34m+\u001b[0m\u001b[0mlabels\u001b[0m\u001b[0;34m[\u001b[0m\u001b[0mlabel\u001b[0m\u001b[0;34m]\u001b[0m\u001b[0;34m+\u001b[0m\u001b[0;34m\"/*.*\"\u001b[0m\u001b[0;34m)\u001b[0m\u001b[0;34m[\u001b[0m\u001b[0mi\u001b[0m\u001b[0;34m]\u001b[0m\u001b[0;34m)\u001b[0m\u001b[0;34m\u001b[0m\u001b[0;34m\u001b[0m\u001b[0m\n\u001b[0;32m---> 72\u001b[0;31m              \u001b[0mimg\u001b[0m \u001b[0;34m=\u001b[0m \u001b[0mcv2\u001b[0m\u001b[0;34m.\u001b[0m\u001b[0mresize\u001b[0m\u001b[0;34m(\u001b[0m\u001b[0mimg\u001b[0m\u001b[0;34m,\u001b[0m\u001b[0;34m(\u001b[0m\u001b[0mpicture_size\u001b[0m\u001b[0;34m,\u001b[0m\u001b[0mpicture_size\u001b[0m\u001b[0;34m)\u001b[0m\u001b[0;34m)\u001b[0m\u001b[0;34m\u001b[0m\u001b[0;34m\u001b[0m\u001b[0m\n\u001b[0m\u001b[1;32m     73\u001b[0m        \u001b[0;31m#      img = cv2.bilateralFilter(img,15,75,75)\u001b[0m\u001b[0;34m\u001b[0m\u001b[0;34m\u001b[0m\u001b[0;34m\u001b[0m\u001b[0m\n\u001b[1;32m     74\u001b[0m              \u001b[0mtest_data\u001b[0m\u001b[0;34m.\u001b[0m\u001b[0mappend\u001b[0m\u001b[0;34m(\u001b[0m\u001b[0mimg\u001b[0m\u001b[0;34m)\u001b[0m\u001b[0;34m\u001b[0m\u001b[0;34m\u001b[0m\u001b[0m\n",
            "\u001b[0;31merror\u001b[0m: OpenCV(4.1.2) /io/opencv/modules/imgproc/src/resize.cpp:3720: error: (-215:Assertion failed) !ssize.empty() in function 'resize'\n"
          ]
        }
      ]
    },
    {
      "cell_type": "code",
      "metadata": {
        "id": "HvUPuXGFIxmj",
        "colab": {
          "base_uri": "https://localhost:8080/",
          "height": 34
        },
        "outputId": "33ed4f29-14f1-4183-9cf8-1ec77ee1a188"
      },
      "source": [
        "len(test_data)"
      ],
      "execution_count": null,
      "outputs": [
        {
          "output_type": "execute_result",
          "data": {
            "text/plain": [
              "200"
            ]
          },
          "metadata": {
            "tags": []
          },
          "execution_count": 16
        }
      ]
    },
    {
      "cell_type": "code",
      "metadata": {
        "id": "JGTXz1nTIxmm"
      },
      "source": [
        "x_test = np.array(test_data)\n",
        "y_test = np.array(test_data_label)\n",
        "Y_test = to_categorical(y_test, len(labels))"
      ],
      "execution_count": null,
      "outputs": []
    },
    {
      "cell_type": "markdown",
      "metadata": {
        "id": "bWGwBkuvIxmq"
      },
      "source": [
        "# AUC ROC 측정 함수"
      ]
    },
    {
      "cell_type": "code",
      "metadata": {
        "id": "bvnTZi2GIxms"
      },
      "source": [
        "#from sklearn import metrics\n",
        "#from keras import backend as K\n",
        "#import tensorflow as tf\n",
        "#def auc(y_true, y_pred):\n",
        "#    auc = tf.metrics.auc(y_true, y_pred)[1]\n",
        "#    K.get_session().run(tf.local_variables_initializer())\n",
        "#    return auc\n",
        "#roc그래프 보려고추가했는데 모델 read시 auc값없다고 안되서 일단 생략"
      ],
      "execution_count": null,
      "outputs": []
    },
    {
      "cell_type": "markdown",
      "metadata": {
        "id": "QXxOP1fWIxmw"
      },
      "source": [
        "# 데이터 제너렉트"
      ]
    },
    {
      "cell_type": "code",
      "metadata": {
        "id": "ygjYBes3Ixmx"
      },
      "source": [
        "from keras.preprocessing.image import ImageDataGenerator\n",
        "generator = ImageDataGenerator(\n",
        "    rescale=1./255,\n",
        "    rotation_range=40,\n",
        "    width_shift_range=0.2,\n",
        "    height_shift_range=0.2,\n",
        "    shear_range=0.2,\n",
        "    zoom_range=0.2,\n",
        "    horizontal_flip=True,)\n",
        "test_generator = ImageDataGenerator(rescale=1./255)\n",
        "train_data = ImageDataGenerator(rescale=1./255)"
      ],
      "execution_count": null,
      "outputs": []
    },
    {
      "cell_type": "code",
      "metadata": {
        "id": "AXKHOylOIxm0"
      },
      "source": [
        "train_generator=generator.flow(X_train,Y_train,batch_size=64)\n",
        "validation_generator=test_generator.flow(X_test,Y_validation,batch_size=64)"
      ],
      "execution_count": null,
      "outputs": []
    },
    {
      "cell_type": "code",
      "metadata": {
        "id": "skBCH-w6Ixm2",
        "colab": {
          "base_uri": "https://localhost:8080/",
          "height": 52
        },
        "outputId": "99d79638-5cfd-4d60-f4ad-9cbfcd5d2726"
      },
      "source": [
        "from tensorflow.keras.applications import VGG16\n",
        "\n",
        "conv_base = VGG16(weights='imagenet',\n",
        "                  include_top=False,\n",
        "                  input_shape=(150, 150, 3))#흑백1,컬러3"
      ],
      "execution_count": null,
      "outputs": [
        {
          "output_type": "stream",
          "text": [
            "Downloading data from https://storage.googleapis.com/tensorflow/keras-applications/vgg16/vgg16_weights_tf_dim_ordering_tf_kernels_notop.h5\n",
            "58892288/58889256 [==============================] - 1s 0us/step\n"
          ],
          "name": "stdout"
        }
      ]
    },
    {
      "cell_type": "code",
      "metadata": {
        "id": "5xjHlCxHIxm5"
      },
      "source": [
        "from tensorflow.keras import models\n",
        "from tensorflow.keras import layers\n",
        "\n",
        "model = models.Sequential()\n",
        "model.add(conv_base)\n",
        "model.add(layers.Flatten())#인풋을 일렬화 합니다. 배치 크기에는 영향을 주지 않습니다.\n",
        "model.add(layers.Dense(256, activation='relu'))\n",
        "model.add(layers.Dense(10, activation='softmax'))#종류수에맞게 필터수조절\n",
        "#‘linear’ : 디폴트 값, 입력뉴런과 가중치로 계산된 결과값이 그대로 출력으로 나옵니다.\n",
        "#‘relu’ : rectifier 함수, 은익층에 주로 쓰입니다.\n",
        "#‘sigmoid’ : 시그모이드 함수, 이진 분류 문제에서 출력층에 주로 쓰입니다.\n",
        "#‘softmax’ : 소프트맥스 함수, 다중 클래스 분류 문제에서 출력층에 주로 쓰입니다."
      ],
      "execution_count": null,
      "outputs": []
    },
    {
      "cell_type": "code",
      "metadata": {
        "id": "tCJD4v94IxnS",
        "colab": {
          "base_uri": "https://localhost:8080/",
          "height": 304
        },
        "outputId": "935e13c6-f7f8-4b66-9efb-ab6fa61a7b83"
      },
      "source": [
        "model.summary()"
      ],
      "execution_count": null,
      "outputs": [
        {
          "output_type": "stream",
          "text": [
            "Model: \"sequential\"\n",
            "_________________________________________________________________\n",
            "Layer (type)                 Output Shape              Param #   \n",
            "=================================================================\n",
            "vgg16 (Model)                (None, 4, 4, 512)         14714688  \n",
            "_________________________________________________________________\n",
            "flatten (Flatten)            (None, 8192)              0         \n",
            "_________________________________________________________________\n",
            "dense (Dense)                (None, 256)               2097408   \n",
            "_________________________________________________________________\n",
            "dense_1 (Dense)              (None, 10)                2570      \n",
            "=================================================================\n",
            "Total params: 16,814,666\n",
            "Trainable params: 16,814,666\n",
            "Non-trainable params: 0\n",
            "_________________________________________________________________\n"
          ],
          "name": "stdout"
        }
      ]
    },
    {
      "cell_type": "code",
      "metadata": {
        "id": "B7YP3zMUMkAB"
      },
      "source": [
        "model.compile(optimizer=optimizers.RMSprop(lr=2e-6),\n",
        "              loss='categorical_crossentropy',\n",
        "              metrics=['acc'])"
      ],
      "execution_count": null,
      "outputs": []
    },
    {
      "cell_type": "code",
      "metadata": {
        "id": "LO8EwppJIxnc",
        "colab": {
          "base_uri": "https://localhost:8080/",
          "height": 52
        },
        "outputId": "fc102fbd-5c5f-4147-c3f9-1f88f2a687b3"
      },
      "source": [
        "print('conv_base를 동결하기 전 훈련되는 가중치의 수:', \n",
        "      len(model.trainable_weights))\n",
        "conv_base.trainable = False\n",
        "\n",
        "print('conv_base를 동결한 후 훈련되는 가중치의 수:', \n",
        "      len(model.trainable_weights))"
      ],
      "execution_count": null,
      "outputs": [
        {
          "output_type": "stream",
          "text": [
            "conv_base를 동결하기 전 훈련되는 가중치의 수: 30\n",
            "conv_base를 동결한 후 훈련되는 가중치의 수: 4\n"
          ],
          "name": "stdout"
        }
      ]
    },
    {
      "cell_type": "code",
      "metadata": {
        "id": "xGgpTnM6i-EV",
        "colab": {
          "base_uri": "https://localhost:8080/",
          "height": 1000
        },
        "outputId": "c8d3904c-5cf4-42e5-b262-bbff06ea6ea6"
      },
      "source": [
        "history = model.fit_generator(\n",
        "      train_generator,\n",
        "      steps_per_epoch=110,#5609/128=43.8\n",
        "      epochs=60,#6번까지 7번부터 오버피팅뜸 6번돌리고 모델저장하고 ,epochs 1번씩 더 돌리면서 loss값 높으면 계속 돌려보면서 오버피팅뜨면 중지 \n",
        "      validation_data=validation_generator,validation_steps=22)#1122/128=8.7\n",
        "#첫번째 인자 : 훈련데이터셋을 제공할 제네레이터를 지정 ,앞서 생성한 train_generator으로 지정합니다.\n",
        "#steps_per_epoch : 한 epoch에 사용한 스텝 수를 지정  예시 )전체샘플 / 배치사이즈 \n",
        "#epochs : 전체 훈련 데이터셋에 대해 학습 반복 횟수를 지정 예시 ) 100번을 반복적으로 학습시켜 보겠습니다. 오버피팅안되게 주의 \n",
        "#validation_data : 검증데이터셋을 제공할 제네레이터를 지정, 앞서 생성한 validation_generator으로 지정합니다.\n",
        "#validation_steps : 한 epoch 종료 시 마다 검증할 때 사용되는 검증 스텝 수를 지정합니다. 예시 )검증샘플/배치사이즈\n",
        "\n",
        "model.save('/content/drive/My Drive/gpu0517test64'+str(round(history.history[\"acc\"][-1],2))+'.h5') \n",
        "\n",
        "import tensorflow as tf\n",
        "\n",
        "#model = tf.keras.models.load_model('/content/drive/My Drive/8w2e-6fish640.9.h5')\n",
        "converter = tf.lite.TFLiteConverter.from_keras_model(model)\n",
        "tflite_model = converter.convert()\n",
        "open(\"/content/drive/My Drive/gputes0517.tflite\", \"wb\").write(tflite_model)"
      ],
      "execution_count": null,
      "outputs": [
        {
          "output_type": "stream",
          "text": [
            "WARNING:tensorflow:From <ipython-input-26-12bacb51ec92>:5: Model.fit_generator (from tensorflow.python.keras.engine.training) is deprecated and will be removed in a future version.\n",
            "Instructions for updating:\n",
            "Please use Model.fit, which supports generators.\n",
            "Epoch 1/60\n",
            "110/110 [==============================] - 44s 399ms/step - loss: 2.1741 - acc: 0.2223 - val_loss: 1.8668 - val_acc: 0.3913\n",
            "Epoch 2/60\n",
            "110/110 [==============================] - 42s 377ms/step - loss: 1.7270 - acc: 0.4163 - val_loss: 1.3828 - val_acc: 0.5424\n",
            "Epoch 3/60\n",
            "110/110 [==============================] - 42s 379ms/step - loss: 1.3437 - acc: 0.5366 - val_loss: 1.0419 - val_acc: 0.6507\n",
            "Epoch 4/60\n",
            "110/110 [==============================] - 41s 374ms/step - loss: 1.1056 - acc: 0.6203 - val_loss: 0.8514 - val_acc: 0.7227\n",
            "Epoch 5/60\n",
            "110/110 [==============================] - 42s 377ms/step - loss: 0.9384 - acc: 0.6736 - val_loss: 0.7338 - val_acc: 0.7726\n",
            "Epoch 6/60\n",
            "110/110 [==============================] - 41s 377ms/step - loss: 0.8416 - acc: 0.7147 - val_loss: 0.6814 - val_acc: 0.7748\n",
            "Epoch 7/60\n",
            "110/110 [==============================] - 41s 377ms/step - loss: 0.7379 - acc: 0.7483 - val_loss: 0.5882 - val_acc: 0.8133\n",
            "Epoch 8/60\n",
            "110/110 [==============================] - 41s 374ms/step - loss: 0.6875 - acc: 0.7743 - val_loss: 0.5439 - val_acc: 0.8232\n",
            "Epoch 9/60\n",
            "110/110 [==============================] - 41s 376ms/step - loss: 0.6126 - acc: 0.8000 - val_loss: 0.5285 - val_acc: 0.8368\n",
            "Epoch 10/60\n",
            "110/110 [==============================] - 42s 377ms/step - loss: 0.5598 - acc: 0.8181 - val_loss: 0.4863 - val_acc: 0.8453\n",
            "Epoch 11/60\n",
            "110/110 [==============================] - 41s 376ms/step - loss: 0.5311 - acc: 0.8257 - val_loss: 0.4700 - val_acc: 0.8546\n",
            "Epoch 12/60\n",
            "110/110 [==============================] - 41s 374ms/step - loss: 0.4921 - acc: 0.8350 - val_loss: 0.4351 - val_acc: 0.8696\n",
            "Epoch 13/60\n",
            "110/110 [==============================] - 41s 377ms/step - loss: 0.4682 - acc: 0.8455 - val_loss: 0.4242 - val_acc: 0.8710\n",
            "Epoch 14/60\n",
            "110/110 [==============================] - 41s 377ms/step - loss: 0.4425 - acc: 0.8590 - val_loss: 0.4148 - val_acc: 0.8710\n",
            "Epoch 15/60\n",
            "110/110 [==============================] - 41s 377ms/step - loss: 0.4237 - acc: 0.8597 - val_loss: 0.3796 - val_acc: 0.8845\n",
            "Epoch 16/60\n",
            "110/110 [==============================] - 41s 375ms/step - loss: 0.3957 - acc: 0.8710 - val_loss: 0.3763 - val_acc: 0.8852\n",
            "Epoch 17/60\n",
            "110/110 [==============================] - 41s 376ms/step - loss: 0.3975 - acc: 0.8716 - val_loss: 0.4358 - val_acc: 0.8582\n",
            "Epoch 18/60\n",
            "110/110 [==============================] - 41s 377ms/step - loss: 0.3583 - acc: 0.8810 - val_loss: 0.3412 - val_acc: 0.8881\n",
            "Epoch 19/60\n",
            "110/110 [==============================] - 41s 375ms/step - loss: 0.3536 - acc: 0.8834 - val_loss: 0.3443 - val_acc: 0.9038\n",
            "Epoch 20/60\n",
            "110/110 [==============================] - 41s 374ms/step - loss: 0.3330 - acc: 0.8896 - val_loss: 0.3357 - val_acc: 0.9024\n",
            "Epoch 21/60\n",
            "110/110 [==============================] - 41s 376ms/step - loss: 0.3202 - acc: 0.9002 - val_loss: 0.3615 - val_acc: 0.8952\n",
            "Epoch 22/60\n",
            "110/110 [==============================] - 41s 376ms/step - loss: 0.3105 - acc: 0.9012 - val_loss: 0.3273 - val_acc: 0.8974\n",
            "Epoch 23/60\n",
            "110/110 [==============================] - 41s 376ms/step - loss: 0.3018 - acc: 0.9004 - val_loss: 0.3479 - val_acc: 0.9002\n",
            "Epoch 24/60\n",
            "110/110 [==============================] - 41s 374ms/step - loss: 0.2882 - acc: 0.9073 - val_loss: 0.3223 - val_acc: 0.9038\n",
            "Epoch 25/60\n",
            "110/110 [==============================] - 42s 378ms/step - loss: 0.2892 - acc: 0.9045 - val_loss: 0.2844 - val_acc: 0.9116\n",
            "Epoch 26/60\n",
            "110/110 [==============================] - 42s 377ms/step - loss: 0.2717 - acc: 0.9121 - val_loss: 0.2785 - val_acc: 0.9152\n",
            "Epoch 27/60\n",
            "110/110 [==============================] - 41s 376ms/step - loss: 0.2531 - acc: 0.9192 - val_loss: 0.3153 - val_acc: 0.9059\n",
            "Epoch 28/60\n",
            "110/110 [==============================] - 41s 375ms/step - loss: 0.2507 - acc: 0.9193 - val_loss: 0.2406 - val_acc: 0.9287\n",
            "Epoch 29/60\n",
            "110/110 [==============================] - 41s 374ms/step - loss: 0.2458 - acc: 0.9198 - val_loss: 0.3622 - val_acc: 0.8967\n",
            "Epoch 30/60\n",
            "110/110 [==============================] - 41s 375ms/step - loss: 0.2354 - acc: 0.9252 - val_loss: 0.3095 - val_acc: 0.9052\n",
            "Epoch 31/60\n",
            "110/110 [==============================] - 41s 374ms/step - loss: 0.2290 - acc: 0.9262 - val_loss: 0.3117 - val_acc: 0.9059\n",
            "Epoch 32/60\n",
            "110/110 [==============================] - 41s 374ms/step - loss: 0.2255 - acc: 0.9241 - val_loss: 0.2903 - val_acc: 0.9130\n",
            "Epoch 33/60\n",
            "110/110 [==============================] - 41s 376ms/step - loss: 0.2229 - acc: 0.9293 - val_loss: 0.3029 - val_acc: 0.9045\n",
            "Epoch 34/60\n",
            "110/110 [==============================] - 41s 374ms/step - loss: 0.2236 - acc: 0.9284 - val_loss: 0.2679 - val_acc: 0.9195\n",
            "Epoch 35/60\n",
            "110/110 [==============================] - 41s 374ms/step - loss: 0.1987 - acc: 0.9339 - val_loss: 0.2675 - val_acc: 0.9159\n",
            "Epoch 36/60\n",
            "110/110 [==============================] - 41s 375ms/step - loss: 0.2063 - acc: 0.9334 - val_loss: 0.3198 - val_acc: 0.9102\n",
            "Epoch 37/60\n",
            "110/110 [==============================] - 41s 375ms/step - loss: 0.1884 - acc: 0.9399 - val_loss: 0.2733 - val_acc: 0.9166\n",
            "Epoch 38/60\n",
            "110/110 [==============================] - 41s 374ms/step - loss: 0.1898 - acc: 0.9404 - val_loss: 0.2891 - val_acc: 0.9109\n",
            "Epoch 39/60\n",
            "110/110 [==============================] - 41s 374ms/step - loss: 0.1860 - acc: 0.9391 - val_loss: 0.2596 - val_acc: 0.9223\n",
            "Epoch 40/60\n",
            "110/110 [==============================] - 41s 374ms/step - loss: 0.1761 - acc: 0.9418 - val_loss: 0.2884 - val_acc: 0.9180\n",
            "Epoch 41/60\n",
            "110/110 [==============================] - 41s 374ms/step - loss: 0.1672 - acc: 0.9485 - val_loss: 0.2763 - val_acc: 0.9252\n",
            "Epoch 42/60\n",
            "110/110 [==============================] - 41s 374ms/step - loss: 0.1792 - acc: 0.9414 - val_loss: 0.2711 - val_acc: 0.9237\n",
            "Epoch 43/60\n",
            "110/110 [==============================] - 42s 381ms/step - loss: 0.1708 - acc: 0.9437 - val_loss: 0.2842 - val_acc: 0.9138\n",
            "Epoch 44/60\n",
            "110/110 [==============================] - 41s 374ms/step - loss: 0.1620 - acc: 0.9479 - val_loss: 0.2658 - val_acc: 0.9202\n",
            "Epoch 45/60\n",
            "110/110 [==============================] - 41s 376ms/step - loss: 0.1669 - acc: 0.9497 - val_loss: 0.3010 - val_acc: 0.9145\n",
            "Epoch 46/60\n",
            "110/110 [==============================] - 41s 376ms/step - loss: 0.1539 - acc: 0.9490 - val_loss: 0.2790 - val_acc: 0.9230\n",
            "Epoch 47/60\n",
            "110/110 [==============================] - 41s 376ms/step - loss: 0.1590 - acc: 0.9525 - val_loss: 0.2648 - val_acc: 0.9216\n",
            "Epoch 48/60\n",
            "110/110 [==============================] - 41s 376ms/step - loss: 0.1589 - acc: 0.9502 - val_loss: 0.2742 - val_acc: 0.9237\n",
            "Epoch 49/60\n",
            "110/110 [==============================] - 41s 377ms/step - loss: 0.1598 - acc: 0.9520 - val_loss: 0.2650 - val_acc: 0.9216\n",
            "Epoch 50/60\n",
            "110/110 [==============================] - 41s 377ms/step - loss: 0.1490 - acc: 0.9535 - val_loss: 0.2485 - val_acc: 0.9337\n",
            "Epoch 51/60\n",
            "110/110 [==============================] - 41s 377ms/step - loss: 0.1398 - acc: 0.9545 - val_loss: 0.2936 - val_acc: 0.9244\n",
            "Epoch 52/60\n",
            "110/110 [==============================] - 41s 376ms/step - loss: 0.1385 - acc: 0.9538 - val_loss: 0.2800 - val_acc: 0.9216\n",
            "Epoch 53/60\n",
            "110/110 [==============================] - 42s 379ms/step - loss: 0.1371 - acc: 0.9551 - val_loss: 0.2447 - val_acc: 0.9323\n",
            "Epoch 54/60\n",
            "110/110 [==============================] - 42s 379ms/step - loss: 0.1317 - acc: 0.9571 - val_loss: 0.2573 - val_acc: 0.9301\n",
            "Epoch 55/60\n",
            "110/110 [==============================] - 42s 385ms/step - loss: 0.1305 - acc: 0.9590 - val_loss: 0.1927 - val_acc: 0.9401\n",
            "Epoch 56/60\n",
            "110/110 [==============================] - 42s 381ms/step - loss: 0.1310 - acc: 0.9580 - val_loss: 0.2794 - val_acc: 0.9294\n",
            "Epoch 57/60\n",
            "110/110 [==============================] - 42s 380ms/step - loss: 0.1285 - acc: 0.9577 - val_loss: 0.2206 - val_acc: 0.9394\n",
            "Epoch 58/60\n",
            "110/110 [==============================] - 42s 381ms/step - loss: 0.1243 - acc: 0.9598 - val_loss: 0.3076 - val_acc: 0.9159\n",
            "Epoch 59/60\n",
            "110/110 [==============================] - 42s 383ms/step - loss: 0.1105 - acc: 0.9648 - val_loss: 0.2847 - val_acc: 0.9280\n",
            "Epoch 60/60\n",
            "110/110 [==============================] - 42s 379ms/step - loss: 0.1144 - acc: 0.9650 - val_loss: 0.2110 - val_acc: 0.9480\n"
          ],
          "name": "stdout"
        },
        {
          "output_type": "execute_result",
          "data": {
            "text/plain": [
              "67265000"
            ]
          },
          "metadata": {
            "tags": []
          },
          "execution_count": 26
        }
      ]
    },
    {
      "cell_type": "code",
      "metadata": {
        "id": "FJ0bObDFamee",
        "colab": {
          "base_uri": "https://localhost:8080/",
          "height": 351
        },
        "outputId": "efd63d70-7e64-489e-b47b-4cfe62254f0e"
      },
      "source": [
        "from tensorflow.keras.models import load_model\n",
        "model = load_model('/content/drive/My Drive/godom.tflite')\n",
        "#로드 모델할때 위에 모델컴파일까지 끝낸후 로드하면 가중치값이 입력됨 ! "
      ],
      "execution_count": null,
      "outputs": [
        {
          "output_type": "error",
          "ename": "OSError",
          "evalue": "ignored",
          "traceback": [
            "\u001b[0;31m---------------------------------------------------------------------------\u001b[0m",
            "\u001b[0;31mOSError\u001b[0m                                   Traceback (most recent call last)",
            "\u001b[0;32m<ipython-input-34-0733c39be05f>\u001b[0m in \u001b[0;36m<module>\u001b[0;34m()\u001b[0m\n\u001b[1;32m      1\u001b[0m \u001b[0;32mfrom\u001b[0m \u001b[0mtensorflow\u001b[0m\u001b[0;34m.\u001b[0m\u001b[0mkeras\u001b[0m\u001b[0;34m.\u001b[0m\u001b[0mmodels\u001b[0m \u001b[0;32mimport\u001b[0m \u001b[0mload_model\u001b[0m\u001b[0;34m\u001b[0m\u001b[0;34m\u001b[0m\u001b[0m\n\u001b[0;32m----> 2\u001b[0;31m \u001b[0mmodel\u001b[0m \u001b[0;34m=\u001b[0m \u001b[0mload_model\u001b[0m\u001b[0;34m(\u001b[0m\u001b[0;34m'/content/drive/My Drive/godom.tflite'\u001b[0m\u001b[0;34m)\u001b[0m\u001b[0;34m\u001b[0m\u001b[0;34m\u001b[0m\u001b[0m\n\u001b[0m\u001b[1;32m      3\u001b[0m \u001b[0;31m#로드 모델할때 위에 모델컴파일까지 끝낸후 로드하면 가중치값이 입력됨 !\u001b[0m\u001b[0;34m\u001b[0m\u001b[0;34m\u001b[0m\u001b[0;34m\u001b[0m\u001b[0m\n",
            "\u001b[0;32m/usr/local/lib/python3.6/dist-packages/tensorflow/python/keras/saving/save.py\u001b[0m in \u001b[0;36mload_model\u001b[0;34m(filepath, custom_objects, compile)\u001b[0m\n\u001b[1;32m    187\u001b[0m       \u001b[0mfilepath\u001b[0m \u001b[0;34m=\u001b[0m \u001b[0mstr\u001b[0m\u001b[0;34m(\u001b[0m\u001b[0mfilepath\u001b[0m\u001b[0;34m)\u001b[0m\u001b[0;34m\u001b[0m\u001b[0;34m\u001b[0m\u001b[0m\n\u001b[1;32m    188\u001b[0m     \u001b[0;32mif\u001b[0m \u001b[0misinstance\u001b[0m\u001b[0;34m(\u001b[0m\u001b[0mfilepath\u001b[0m\u001b[0;34m,\u001b[0m \u001b[0msix\u001b[0m\u001b[0;34m.\u001b[0m\u001b[0mstring_types\u001b[0m\u001b[0;34m)\u001b[0m\u001b[0;34m:\u001b[0m\u001b[0;34m\u001b[0m\u001b[0;34m\u001b[0m\u001b[0m\n\u001b[0;32m--> 189\u001b[0;31m       \u001b[0mloader_impl\u001b[0m\u001b[0;34m.\u001b[0m\u001b[0mparse_saved_model\u001b[0m\u001b[0;34m(\u001b[0m\u001b[0mfilepath\u001b[0m\u001b[0;34m)\u001b[0m\u001b[0;34m\u001b[0m\u001b[0;34m\u001b[0m\u001b[0m\n\u001b[0m\u001b[1;32m    190\u001b[0m       \u001b[0;32mreturn\u001b[0m \u001b[0msaved_model_load\u001b[0m\u001b[0;34m.\u001b[0m\u001b[0mload\u001b[0m\u001b[0;34m(\u001b[0m\u001b[0mfilepath\u001b[0m\u001b[0;34m,\u001b[0m \u001b[0mcompile\u001b[0m\u001b[0;34m)\u001b[0m\u001b[0;34m\u001b[0m\u001b[0;34m\u001b[0m\u001b[0m\n\u001b[1;32m    191\u001b[0m \u001b[0;34m\u001b[0m\u001b[0m\n",
            "\u001b[0;32m/usr/local/lib/python3.6/dist-packages/tensorflow/python/saved_model/loader_impl.py\u001b[0m in \u001b[0;36mparse_saved_model\u001b[0;34m(export_dir)\u001b[0m\n\u001b[1;32m    111\u001b[0m                   (export_dir,\n\u001b[1;32m    112\u001b[0m                    \u001b[0mconstants\u001b[0m\u001b[0;34m.\u001b[0m\u001b[0mSAVED_MODEL_FILENAME_PBTXT\u001b[0m\u001b[0;34m,\u001b[0m\u001b[0;34m\u001b[0m\u001b[0;34m\u001b[0m\u001b[0m\n\u001b[0;32m--> 113\u001b[0;31m                    constants.SAVED_MODEL_FILENAME_PB))\n\u001b[0m\u001b[1;32m    114\u001b[0m \u001b[0;34m\u001b[0m\u001b[0m\n\u001b[1;32m    115\u001b[0m \u001b[0;34m\u001b[0m\u001b[0m\n",
            "\u001b[0;31mOSError\u001b[0m: SavedModel file does not exist at: /content/drive/My Drive/godom.tflite/{saved_model.pbtxt|saved_model.pb}"
          ]
        }
      ]
    },
    {
      "cell_type": "code",
      "metadata": {
        "id": "-5nVqpHfIxnp"
      },
      "source": [
        "out=model.predict(x_test)"
      ],
      "execution_count": null,
      "outputs": []
    },
    {
      "cell_type": "code",
      "metadata": {
        "id": "G0zk2OAeN_yo"
      },
      "source": [
        "outputs=np.argmax(out,axis=1)"
      ],
      "execution_count": null,
      "outputs": []
    },
    {
      "cell_type": "code",
      "metadata": {
        "id": "xqZBUfG5Ixn0",
        "colab": {
          "base_uri": "https://localhost:8080/",
          "height": 544
        },
        "outputId": "bba46a6e-4db7-4067-a766-1c1bf785506d"
      },
      "source": [
        "acc = history.history['acc']\n",
        "val_acc = history.history['val_acc']\n",
        "loss = history.history['loss']\n",
        "val_loss = history.history['val_loss']\n",
        "\n",
        "epochs = range(len(acc))\n",
        "\n",
        "plt.plot(epochs, acc, 'bo', label='Training acc')\n",
        "plt.plot(epochs, val_acc, 'b', label='Validation acc')\n",
        "plt.title('Training and validation accuracy')\n",
        "plt.legend()\n",
        "\n",
        "plt.figure()\n",
        "\n",
        "plt.plot(epochs, loss, 'bo', label='Training loss')\n",
        "plt.plot(epochs, val_loss, 'b', label='Validation loss')\n",
        "plt.title('Training and validation loss')\n",
        "plt.legend()\n",
        "\n",
        "plt.show()"
      ],
      "execution_count": null,
      "outputs": [
        {
          "output_type": "display_data",
          "data": {
            "image/png": "[encoded data removed]",
            "text/plain": [
              "<Figure size 432x288 with 1 Axes>"
            ]
          },
          "metadata": {
            "tags": [],
            "needs_background": "light"
          }
        },
        {
          "output_type": "display_data",
          "data": {
            "image/png": "[encoded data removed]",
            "text/plain": [
              "<Figure size 432x288 with 1 Axes>"
            ]
          },
          "metadata": {
            "tags": [],
            "needs_background": "light"
          }
        }
      ]
    },
    {
      "cell_type": "code",
      "metadata": {
        "id": "4Vw3d_l3CHzF",
        "colab": {
          "base_uri": "https://localhost:8080/",
          "height": 34
        },
        "outputId": "1b691616-7466-49a9-9f92-851d52dc5c80"
      },
      "source": [
        "import tensorflow as tf\n",
        "\n",
        "#model = tf.keras.models.load_model('/content/drive/My Drive/8w2e-6fish640.9.h5')\n",
        "converter = tf.lite.TFLiteConverter.from_keras_model(model)\n",
        "tflite_model = converter.convert()\n",
        "open(\"/content/drive/My Drive/gputes0430.tflite\", \"wb\").write(tflite_model)"
      ],
      "execution_count": null,
      "outputs": [
        {
          "output_type": "execute_result",
          "data": {
            "text/plain": [
              "67262968"
            ]
          },
          "metadata": {
            "tags": []
          },
          "execution_count": 43
        }
      ]
    },
    {
      "cell_type": "code",
      "metadata": {
        "id": "Xkzvi4OxP9UK",
        "colab": {
          "base_uri": "https://localhost:8080/",
          "height": 34
        },
        "outputId": "0d33860a-f774-4f69-81f6-e6f3e06ea915"
      },
      "source": [
        "import tensorflow as tf\n",
        "converter = tf.lite.TFLiteConverter.from_keras_model(model)\n",
        "converter.optimizations = [tf.lite.Optimize.DEFAULT]\n",
        "tflite_quant_model = converter.convert()\n",
        "\n",
        "open(\"/content/drive/My Drive/0423_quant_8th_80.tflite\", \"wb\").write(tflite_quant_model)"
      ],
      "execution_count": null,
      "outputs": [
        {
          "output_type": "execute_result",
          "data": {
            "text/plain": [
              "16834528"
            ]
          },
          "metadata": {
            "tags": []
          },
          "execution_count": 33
        }
      ]
    }
  ]
}